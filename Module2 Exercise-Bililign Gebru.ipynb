{
 "cells": [
  {
   "cell_type": "markdown",
   "metadata": {},
   "source": [
    "## Exercises\n",
    "### Write the pseudocode for these problems. \n",
    "\n",
    "#### Define the problem by constructing an IPO diagram showing input, output, and processing steps\n",
    "Ask yourself\n",
    "- What control structures (sequence, selection and repetition) are required?\n",
    "- What variables are required?\n",
    "\n",
    "Show a check of your solution with **test data** for at least **two valid test cases**\n",
    "If you use the numbers provided in the example then the correct pseudocode will calculate the same result.\n",
    "    "
   ]
  },
  {
   "cell_type": "markdown",
   "metadata": {},
   "source": [
    "#### 1. Find the average score\n",
    "A program is needed to prompt the user operator for exam scores, calculate the average score and display the result to the screen. The average score is calculated as the sum of the scores divided by the number of scores."
   ]
  },
  {
   "cell_type": "markdown",
   "metadata": {},
   "source": [
    "INPUT : n exam scores\n",
    "PROCESS:\n",
    "        BEGIN\n",
    "             Enter 1st Number\n",
    "             Get  1st Number\n",
    "             Enter 2nd Number \n",
    "             Get 2nd Number \n",
    "             ......\n",
    "             Enter nth Number\n",
    "             Get nth Number\n",
    "             Average = ( 1st number+ 2nd number + .... nth Number) / n\n",
    "             PRINT Averge\n",
    "          END"
   ]
  },
  {
   "cell_type": "markdown",
   "metadata": {},
   "source": [
    "#### 2. How much water runs off a roof in a rain storm?\n",
    "To calculate the runoff from any given rainfall: Take the dimensions of the footprint of the roof and convert them to inches. (So, a 50' x 20' roof is 600\" x 240\"). Multiply the roof dimensions by the number of inches of rainfall. As an example, 600\" x 240\" x 1\" = 144,000 cubic inches of water for an inch of rainfall. Divide that result by 231 to get the number of gallons (because 1 gallon = 231 cubic inches). (144,000/231 = 623.38)."
   ]
  },
  {
   "cell_type": "markdown",
   "metadata": {},
   "source": [
    "INPUT : roof length , width and rain falls in inches \n",
    "PROCESS:\n",
    "        BEGIN\n",
    "        Enter roof Width\n",
    "        Get width\n",
    "        Enter roof length\n",
    "        Get length\n",
    "        Enter rain in inches\n",
    "        get rain in inches\n",
    "        ConvertedLength= length X 12\n",
    "        ConvertedWidth= widhth X 12\n",
    "        \n",
    "        volume of rain in gallons \n",
    "         = ConvertedLength X ConvertedWidth X Rain in inches / 231\n",
    "        Print  volume of rain in gallons \n",
    "                  \n",
    "        END"
   ]
  },
  {
   "cell_type": "markdown",
   "metadata": {},
   "source": [
    "#### 3. Process customer record\n",
    "A program is required to read a customer’s name, a purchase amount and a tax code. The tax code has been validated and will be one of the following: 0 tax exempt (0%) 1 state sales tax only (3%) 2 federal and state sales tax (5%) 3 special sales tax (7%) The program must then compute the sales tax and the total amount due,and print the customer’s name, purchase amount, sales tax and total amount due."
   ]
  },
  {
   "cell_type": "markdown",
   "metadata": {},
   "source": [
    "INPUT:Customer Name, Purchase Amount , Tax Code \n",
    "PROCESS:\n",
    "        BEGIN\n",
    "        Enter Customer Name \n",
    "        Get Customer Name \n",
    "        Enter Purchase Amount\n",
    "        Get Purchase Amount\n",
    "        Enter Tax Code\n",
    "        Get Tax Code \n",
    "         BEGIN IF \n",
    "              IF Tax Code= 0\n",
    "               salesTax = 0\n",
    "              ELSE IF Tax Code= 1\n",
    "               salesTax = purchase amount * 0.03\n",
    "              ELSE IF Tax Code= 2\n",
    "               salesTax = purchase amount * 0.05\n",
    "              ELSE IF Tax Code= 3\n",
    "               salesTax = purchase amount * 0.07\n",
    "              ELSE Invalid Tax Code Entered\n",
    "                \n",
    "          END IF\n",
    "          total = purchase amount + salesTax\n",
    "          PRINT Customer Name\n",
    "          PRINT Purchased amount\n",
    "          PRINT Sales tax \n",
    "          PRINT total\n",
    "        END\n"
   ]
  },
  {
   "cell_type": "markdown",
   "metadata": {},
   "source": [
    "#### 4. Calculate employee's pay \n",
    "A program is required by a company to read an employee’s number, pay rate and the number of hours worked in a week. The program is then to validate the pay rate field and the hours worked field and, if valid, compute the employee’s weekly pay and then print it and the input data.\n",
    "\n",
    "Validation: According to the company’s rules, the maximum hours an employee can work per week is 60 hours, and the maximum hourly rate is $25.00 per hour. If the hours worked field or the hourly rate field is out of range, the input data and an appropriate message are to be printed and the employee’s weekly pay is not to be calculated.\n",
    "\n",
    "Weekly pay calculation: Weekly pay is calculated as hours worked times pay rate. If more than 35 hours are worked, payment for the overtime hours worked is calculated at time-and-a-half."
   ]
  },
  {
   "cell_type": "markdown",
   "metadata": {},
   "source": [
    "INPUT: Employee Number, pay rate , Number of hours workd\n",
    "PROCESS:\n",
    "   BEGIN\n",
    "       Enter EmplNumber\n",
    "       Get EmplNumber\n",
    "       Enter payRate \n",
    "       Get payRate \n",
    "       Enter numberOfHours\n",
    "       Get numberOfHours\n",
    "       \n",
    "       BEGINIF\n",
    "          \n",
    "       IF numberOfHours > 60 OR payRate > 25 \n",
    "       PRINT Either hours worked : numberOfHours  or pay rate: payRate invalid. \n",
    "       ELSE \n",
    "           BEGINIF\n",
    "              IF hoursWorked > 35 \n",
    "              pay = 35 * payRate + (numberOfHours - 35 ) * payRate * 1.5 \n",
    "              ELsE \n",
    "              pay= numberOfHours * payRate\n",
    "              PRINT EmplNubmer\n",
    "              PRINT numberOfHours\n",
    "              PRINT payRate\n",
    "              PRINT pay\n",
    "           ENDIF\n",
    "       \n",
    "       \n",
    "       ENDIF\n",
    "       \n",
    "       \n",
    "   END "
   ]
  }
 ],
 "metadata": {
  "kernelspec": {
   "display_name": "Python 3",
   "language": "python",
   "name": "python3"
  },
  "language_info": {
   "codemirror_mode": {
    "name": "ipython",
    "version": 3
   },
   "file_extension": ".py",
   "mimetype": "text/x-python",
   "name": "python",
   "nbconvert_exporter": "python",
   "pygments_lexer": "ipython3",
   "version": "3.8.8"
  }
 },
 "nbformat": 4,
 "nbformat_minor": 2
}
